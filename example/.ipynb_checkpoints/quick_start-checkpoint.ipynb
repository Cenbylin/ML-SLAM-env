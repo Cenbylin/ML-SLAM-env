{
 "cells": [
  {
   "cell_type": "markdown",
   "metadata": {},
   "source": [
    "**1. Set default virtual screen (DISPLAY=:1), which was created by Xvfb.**"
   ]
  },
  {
   "cell_type": "code",
   "execution_count": null,
   "metadata": {},
   "outputs": [],
   "source": [
    "import os\n",
    "os.environ['DISPLAY']=\":1\"\n",
    "# python code\n",
    "pass"
   ]
  },
  {
   "cell_type": "markdown",
   "metadata": {},
   "source": [
    "**2. example of Pyrep. This operation will launch CoppeliaSim, viewed on vnc.**"
   ]
  },
  {
   "cell_type": "code",
   "execution_count": null,
   "metadata": {},
   "outputs": [],
   "source": [
    "! LD_LIBRARY_PATH=$LD_LIBRARY_PATH:$COPPELIASIM_ROOT \\\n",
    "  QT_QPA_PLATFORM_PLUGIN_PATH=$COPPELIASIM_ROOT \\\n",
    "  DISPLAY=:1 \\\n",
    "  python /opt/PyRep/examples/example_panda_reach_target.py"
   ]
  },
  {
   "cell_type": "markdown",
   "metadata": {},
   "source": [
    "**3. example of ORB-SLAM2. Make sure rgbd_dataset_freiburg1_xyz is in 'data' directory.**"
   ]
  },
  {
   "cell_type": "code",
   "execution_count": null,
   "metadata": {},
   "outputs": [],
   "source": [
    "! DISPLAY=:1 ~/ORB_SLAM2/Examples/Monocular/mono_tum ~/ORB_SLAM2/Vocabulary/ORBvoc.txt ~/ORB_SLAM2/Examples/Monocular/TUM1.yaml ~/data/rgbd_dataset_freiburg1_xyz/"
   ]
  },
  {
   "cell_type": "markdown",
   "metadata": {},
   "source": [
    "**4. example of COPPELIASIM.**"
   ]
  },
  {
   "cell_type": "code",
   "execution_count": null,
   "metadata": {},
   "outputs": [],
   "source": [
    "! DISPLAY=:1 $COPPELIASIM_ROOT/coppeliaSim.sh --server-args=\"-screen 0 1280x1024x24\" &"
   ]
  }
 ],
 "metadata": {
  "kernelspec": {
   "display_name": "Python 3",
   "language": "python",
   "name": "python3"
  },
  "language_info": {
   "codemirror_mode": {
    "name": "ipython",
    "version": 3
   },
   "file_extension": ".py",
   "mimetype": "text/x-python",
   "name": "python",
   "nbconvert_exporter": "python",
   "pygments_lexer": "ipython3",
   "version": "3.7.2"
  }
 },
 "nbformat": 4,
 "nbformat_minor": 4
}
